{
 "cells": [
  {
   "cell_type": "markdown",
   "metadata": {},
   "source": [
    "# Control Flow Program. Module 3\n",
    "\n",
    "## Boolean"
   ]
  },
  {
   "cell_type": "code",
   "execution_count": 2,
   "metadata": {},
   "outputs": [
   ],
   "source": [
    "def lie_detector(arg):\n",
    "    if(arg):\n",
    "        print(\"True\")\n",
    "    else:\n",
    "        print(\"False\")\n",
    "\n",
    "lie_detector(True)          \n",
    "lie_detector(5)             \n",
    "lie_detector(\"False\")       \n",
    "lie_detector([1,2,3])       \n",
    "lie_detector(lie_detector)  \n",
    "\n",
    "lie_detector(False)         \n",
    "lie_detector(None)          \n",
    "lie_detector(0)             \n",
    "lie_detector(\"\")            \n",
    "lie_detector([])            \n",
    "lie_detector(not True)      \n",
    "\n",
    "lie_detector( 3 > 2 and 3 <5) \n",
    "lie_detector( \"abc\" == \"abc\") \n",
    "\n",
    "a = [1]; b = [1]; c = [1, -100]; d = [-1, 100]\n",
    "lie_detector(a == b)    \n",
    "lie_detector(c > a)     \n",
    "lie_detector(d > a)     \n"
   ]
  },
  {
   "cell_type": "markdown",
   "metadata": {},
   "source": [
    "## if else"
   ]
  },
  {
   "cell_type": "code",
   "execution_count": 3,
   "metadata": {},
   "outputs": [
   ],
   "source": [
    "print(\"\\n*** Age adviser. ***\\n\")\n",
    "\n",
    "print(\"Возраст:\")\n",
    "age = int(input())\n",
    "\n",
    "if age < 0:\n",
    "\tprint(\"Подождите, пока вы родитесь\")\n",
    "elif age < 4:\n",
    "\tprint(\"Детское время вышло, пора в кроватку!\")\n",
    "elif age < 12:\n",
    "\tprint(\"Время изучить Python!\")\n",
    "elif age < 20:\n",
    "\tprint(\"Все еще не Senior программист? Как так?\")\n",
    "elif age < 40:\n",
    "\tprint(\"Купите себе яхту, ферарри или самолет уже\")\n",
    "elif age < 80:\n",
    "\tprint(\"Планируете собрать подлодку?\")\n",
    "elif age < 120:\n",
    "\tprint(\"Пора освежить ваши знания Python\")\n",
    "else:\n",
    "\tprint(\"Не черепаха ли вы часом?\")\n"
   ]
  },
  {
   "cell_type": "markdown",
   "metadata": {},
   "source": [
    "## While"
   ]
  },
  {
   "cell_type": "code",
   "execution_count": 4,
   "metadata": {},
   "outputs": [
   ],
   "source": [
    "print(\"\\n*** Проверьте свое терпение ***\\n\")\n",
    "\n",
    "level = 0\n",
    "answer = 'Y'\n",
    "\n",
    "while answer.upper() != 'N':\n",
    "    print(f\"Уровень терпения = {level}. продолжить?[n - нет]\",end = \"\")\n",
    "    level += 1\n",
    "    answer = input()\n"
   ]
  },
  {
   "cell_type": "markdown",
   "metadata": {},
   "source": [
    "## Цикл For"
   ]
  },
  {
   "cell_type": "code",
   "execution_count": 5,
   "metadata": {},
   "outputs": [
   ],
   "source": [
    "print(\"\\n*** Выберете все имена начинающиеся на 'J'  ***\\n\")\n",
    "\n",
    "names = set([\n",
    "'Oliver','Jake','Noah','James','Jack','Connor','Liam','John',\n",
    "'Harry','Callum','Mason','Robert','Jacob','Jacob','Jacob','Michael',\n",
    "'Charlie','Kyle','William','William','Thomas','Joe','Ethan','David',\n",
    "'George','Reece','Michael','Richard','Oscar','Rhys','Alexander','Joseph',\n",
    " 'James','Charlie','James','Charles','William','Damian','Daniel','Thomas'\n",
    "])\n",
    "\n",
    "for name in names:\n",
    "\tif name[0] == 'J':\n",
    "\t\tprint(name)\n"
   ]
  },
  {
   "cell_type": "markdown",
   "metadata": {},
   "source": [
    "## Вложенные циклы"
   ]
  },
  {
   "cell_type": "code",
   "execution_count": 6,
   "metadata": {},
   "outputs": [
   ],
   "source": [
    "print (\"\\n*** Пример матрицы ***\\n\")\n",
    "\n",
    "matrix = [[11,12,13],[21,22,23],[31,32,33]]\n",
    "\n",
    "for line in matrix:\n",
    "    for elem in line:\n",
    "        print (str(elem)+\" \",end = '')\n",
    "    print(\"\")\n",
    "\n",
    "print(\"Центр матрицы:\", matrix[1][1]);\n"
   ]
  },
  {
   "cell_type": "markdown",
   "metadata": {},
   "source": [
    "## Else в циклах"
   ]
  },
  {
   "cell_type": "code",
   "execution_count": 7,
   "metadata": {},
   "outputs": [
   ],
   "source": [
    "print(\"\\n*** Узнайте является ли смесь опасной через loop-else  ***\\n\")\n",
    "\n",
    "def print_danger_mixture (mixture):\n",
    "    bOxigen = False\n",
    "    bHidrogen = False\n",
    "    words = mixture.split(\" \")\n",
    "    for gas in words:\n",
    "        print(\">>>>> \" +gas)\n",
    "        bOxigen = (gas == \"oxygen\") or bOxigen\n",
    "        bHidrogen = (gas == \"hydrogen\") or bHidrogen\n",
    "        if bOxigen and bHidrogen:\n",
    "            print(\"Опасная смесь!\")\n",
    "            break\n",
    "    else:\n",
    "        print(\"Смесь безопасная!\")\n",
    "      \n",
    "mixtures = [\"hydrogen helium nitrogen\",\"oxygen hydrogen nitrogen\",\"oxygen hydrogen nitrogen\"]\n",
    "for mix in mixtures:\n",
    "    print(\"=== \" + mix + \" ===\")\n",
    "    print_danger_mixture (mix)\n"
   ]
  },
  {
   "cell_type": "markdown",
   "metadata": {},
   "source": [
    "## Встроенные функции"
   ]
  },
  {
   "cell_type": "code",
   "execution_count": 8,
   "metadata": {},
   "outputs": [
   ],
   "source": [
    "print(\"\\n*** Таблица умножения ***\\n\")\n",
    "\n",
    "for i in range(1,11):\n",
    "    print(\"{:3}!\".format(i),end=\"\")\n",
    "    for j in range(1,11):\n",
    "        print(\"{:4}\".format(i*j),end=\"\")\n",
    "    if i==1:\n",
    "        print(\"\\n{:#<44}\".format(\"\"),end=\"\")\n",
    "    print(\"\")\n"
   ]
  },
  {
   "cell_type": "markdown",
   "metadata": {},
   "source": [
    "## Exercise 4\n",
    "\n",
    "### Part 1\n",
    "* Дано: a = 3, b =‘test’, c =[1,2,3] , d = ‘None’, e =None , f =0, какие значения вернут следующие операции:\n",
    "* a or b; a and b; a and c; a and d; b or d; a and e; a and f\n",
    "\n",
    "Результат:\n",
    "\n",
    "> 3\n",
    "\n",
    "> test\n",
    "\n",
    "> [1, 2, 3]\n",
    "\n",
    "> test\n",
    "\n",
    "> None\n",
    "\n",
    "> 0\n"
   ]
  },
  {
   "cell_type": "code",
   "execution_count": 15,
   "metadata": {},
   "outputs": [],
   "source": [
    "# Место для кода"
   ]
  },
  {
   "cell_type": "markdown",
   "metadata": {},
   "source": [
    "\n",
    "### Part 2\n",
    "* напишите программу, которая устанавливает значение в переменную. Программа печатает 'Yes', если зачение является числом, и число больше 5; если число меньше 5, напечатать 'No'; если значение строка, то напечатать 'String'; В стальных случаях напечатать 'other'. Не забываем, что существуют числа с плавающей точкой.\n",
    "* Не используйте *input*, создавайте переменную сразу! Используйте *type()* для проверки типа. Возможные типы *int*, *string* и другие"
   ]
  },
  {
   "cell_type": "code",
   "execution_count": 16,
   "metadata": {},
   "outputs": [],
   "source": [
    "# Место для кода"
   ]
  },
  {
   "cell_type": "markdown",
   "metadata": {},
   "source": [
    "\n",
    "### Part 3\n",
    "* Из упражнения 'Структуры данных' возьмите список l1 и напечатайте каждый элемент на новой строке. Используйте for c range, enumerate и zip(x,y) функциями (zip создает кортежи из корреспондирующих элементов списков). Для индексирования можно использовать range()\n",
    "* Через while напечатайте все четные числа между 5 и 47.\n",
    "* Пропустите 20, 24, 36. \n",
    "\n",
    "Результат:\n",
    "\n",
    "> (1, 'abcd')\n",
    "> (2, 786)\n",
    "> (3, 2.23)\n",
    "> (4, 'john')\n",
    "\n",
    "> 6\n",
    "> 8\n",
    "> ...\n",
    "> 44\n",
    "> 46\n",
    "\n",
    "> 6\n",
    "> 8\n",
    "> ...\n",
    "> 22\n",
    "> 26\n",
    "> ...\n",
    "> 34\n",
    "> 38\n",
    "> 40\n",
    "> 42\n",
    "> 44\n",
    "> 46"
   ]
  },
  {
   "cell_type": "code",
   "execution_count": 23,
   "metadata": {},
   "outputs": [],
   "source": [
    "# Место для кода"
   ]
  },
  {
   "cell_type": "markdown",
   "metadata": {},
   "source": [
    "## Exercise 5\n",
    "\n",
    "Замените 'плохие' слова на 'xxx'\n",
    "\n",
    "Например, для строки \"this is bad and bug words\", где *bad* и *bug* - 'плохие' слова, результат должен быть **this is xxx and xxx words***\n",
    "\n",
    "Можно использовать цикл for\n",
    "\n",
    "**for** *currentWords* **in** *listWithBadWords* **:**\n",
    " \n",
    " *код тут*\n",
    " \n",
    "Можно использовать функцию replace:\n",
    " *str* = *str.* **replace(** *old*, *new* **)**\n",
    " "
   ]
  },
  {
   "cell_type": "code",
   "execution_count": 24,
   "metadata": {},
   "outputs": [],
   "source": [
    "# Место для кода"
   ]
  }
 ],
 "metadata": {
  "kernelspec": {
   "display_name": "Python 3",
   "language": "python",
   "name": "python3"
  },
  "language_info": {
   "codemirror_mode": {
    "name": "ipython",
    "version": 3
   },
   "file_extension": ".py",
   "mimetype": "text/x-python",
   "name": "python",
   "nbconvert_exporter": "python",
   "pygments_lexer": "ipython3",
   "version": "3.8.8"
  }
 },
 "nbformat": 4,
 "nbformat_minor": 2
}
