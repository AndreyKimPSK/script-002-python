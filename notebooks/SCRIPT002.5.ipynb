{
 "cells": [
  {
   "cell_type": "markdown",
   "metadata": {},
   "source": [
    "# ООП и исключения"
   ]
  },
  {
   "cell_type": "markdown",
   "metadata": {},
   "source": [
    "## Class and Object\n",
    "\n",
    "### Пример"
   ]
  },
  {
   "cell_type": "code",
   "execution_count": 11,
   "metadata": {},
   "outputs": [],
   "source": [
    "class Employee:\n",
    "    \"\"\"Общий базовый класс для всех типов сотрудников\"\"\"\n",
    "    # Переменная уровня класса для подсчета всех сотрудников\n",
    "    empCount = 0\n",
    "\n",
    "    def __init__(self, name, salary):\n",
    "          # object attributes\n",
    "        self.name = name\n",
    "        self.salary = salary\n",
    "          # Увеличить колличество сотрудников\n",
    "        Employee.empCount += 1\n",
    "   \n",
    "   # method that displays the total number of employees\n",
    "   # метод для печати общего колличества сотрудников\n",
    "    def displayCount(self):\n",
    "        print(\"Общее колличество сотрудников %d\".format(Employee.empCount))\n",
    "\n",
    "   # Напечатать информацию о сотруднике\n",
    "    def displayEmployee(self):\n",
    "        print (f\"Имя :{self.name}, Зарплата: {self.salary}\")\n",
    "\n",
    "#\"Создать переменные класса Employee\"\n",
    "emp1 = Employee(\"Emp1\", 2000)\n",
    "emp2 = Employee(\"Emp2\", 5000)\n",
    "\n",
    "emp1.displayEmployee()\n",
    "emp2.displayEmployee()\n",
    "print(f\"Общее колличество: {Employee.empCount}\")\n",
    "\n"
   ]
  },
  {
   "cell_type": "markdown",
   "metadata": {},
   "source": [
    "### Encapsulation Sample"
   ]
  },
  {
   "cell_type": "code",
   "execution_count": 20,
   "metadata": {},
   "outputs": [],
   "source": [
    "class Foo:\n",
    "    def __init__(self, v):\n",
    "        self.__secretField = v\n",
    "    def out(self):\n",
    "        print(self.__secretField)\n",
    "\n",
    "a = Foo(2)\n",
    "a.out()\n",
    "a.__secretField = 5\n",
    "a.out()\n",
    "print(a.__secretField)\n",
    "a._Foo__secretField = 4\n",
    "a.out()\n",
    "print(dir(a))"
   ]
  },
  {
   "cell_type": "markdown",
   "metadata": {},
   "source": [
    "* Объясните результат **dir(a)**"
   ]
  },
  {
   "attachments": {},
   "cell_type": "markdown",
   "metadata": {},
   "source": [
    "### Exercise 8\n",
    "\n",
    "* Реализуйте DebitCard. Необходимо иметь следующие методы:\n",
    "    - authorize(pin) -> bool\n",
    "    - Withdrawal(money) ->  int\n",
    "    - GetBalance() -> int\n",
    "* Операции выполняются, только если пользователь ввел корректный пин-код через authorize()\n",
    "* Otherwise these function must be return -1\n",
    "* Например: \n",
    "\n",
    "```\n",
    "x = DebitCard('Simple tester',1234,100)\n",
    "print(x.GetBalance())\n",
    "print(x.Withdrawal(10))\n",
    "print(x.Authorize(555))\n",
    "print(x.GetBalance())\n",
    "print(x.Withdrawal(10))\n",
    "print(x.Authorize(1234))\n",
    "print(x.GetBalance())\n",
    "print(x.Withdrawal(200))\n",
    "print(x.Withdrawal(50))\n",
    "print(x.GetBalance())\n",
    "\n",
    "```\n",
    "Результат:\n",
    "\n",
    ">-1\n",
    "\n",
    ">-1\n",
    "\n",
    ">False\n",
    "\n",
    ">-1\n",
    "\n",
    ">-1\n",
    "\n",
    ">True\n",
    "\n",
    ">100\n",
    "\n",
    ">-1\n",
    "\n",
    ">50\n",
    "\n",
    ">50\n"
   ]
  },
  {
   "cell_type": "code",
   "execution_count": 37,
   "metadata": {},
   "outputs": [],
   "source": [
    "# Место для кода"
   ]
  },
  {
   "cell_type": "markdown",
   "metadata": {},
   "source": [
    "## Наследование и полиморфизм\n",
    "\n",
    "### Наследование"
   ]
  },
  {
   "cell_type": "code",
   "execution_count": 51,
   "metadata": {},
   "outputs": [],
   "source": [
    "class Foo:\n",
    "    def __init__(self,v):\n",
    "        self.baseField = v\n",
    "        print('base ctor')\n",
    "    def out(self):\n",
    "        print(f\"baseField = {self.baseField}\")\n",
    "class Bar(Foo):\n",
    "    def __init__(self,v):\n",
    "        #placeholder for call base ctor\n",
    "        self.derivedField = v + 2\n",
    "        print('derived ctor')\n",
    "    def out(self):\n",
    "        print(f\"derivedField = {self.derivedField}\")\n",
    "        print(f\"baseField = {self.baseField}\")\n",
    "    \n",
    "x = Bar(4)\n",
    "x.out()"
   ]
  },
  {
   "cell_type": "markdown",
   "metadata": {},
   "source": [
    "* Объясните ошибку: 'Bar' object has no attribute 'baseField'\n",
    "* Добавьте вызов конструктора базового класса в конструкторе дочернего класса:\n",
    "    ```\n",
    "    super().__init__(v)\n",
    "    ```\n",
    "* Удалите второй print и вызовите out() базового класса:\n",
    "    ```\n",
    "    super().out()\n",
    "    ```"
   ]
  },
  {
   "cell_type": "markdown",
   "metadata": {},
   "source": [
    "### Полиморфизм\n",
    "\n",
    "* Реализация паттерна GoF под названием 'Composite'"
   ]
  },
  {
   "cell_type": "code",
   "execution_count": 54,
   "metadata": {},
   "outputs": [],
   "source": [
    "class Composite:\n",
    "    def __init__(self):\n",
    "        self.__childs = []\n",
    "    def out(self):\n",
    "        for c in self.__childs:\n",
    "            c.out()\n",
    "    def add(self,arg):\n",
    "        self.__childs.append(arg)\n",
    "\n",
    "class Leaf:\n",
    "    def __init__(self,v):\n",
    "        self.__tag = v\n",
    "    def out(self):\n",
    "        print(f'лист {self.__tag}')\n",
    "        \n",
    "root = Composite();\n",
    "root.add(Leaf(2));\n",
    "root.add(Leaf(3));\n",
    "container = Composite()\n",
    "container.add(Leaf(4))\n",
    "container.add(Leaf(5))\n",
    "root.add(container)\n",
    "\n",
    "root.out()\n",
    "    "
   ]
  },
  {
   "cell_type": "markdown",
   "metadata": {},
   "source": [
    "* **Внимание!** Пример не использует полиморфизм, потому что полиморфизм встроен в python!"
   ]
  },
  {
   "cell_type": "markdown",
   "metadata": {},
   "source": [
    "### Exercise 9\n",
    "\n",
    "Релизуйте класс фигуры в шахматах:\n",
    "* Необходимо реализовать базовый класс с методом checkStep. Этот метод является абстрактным (pass operator)\n",
    "* Необходимо реализовать фигуры коня, слона и короля и реализовать метод checkStep для каждой фигуры\n",
    "* Необходимо получить от пользователя название фигуры и координаты следующего хода: e2, e4…\n",
    "* Программа должна выводить координаты новой фигуры или ошибку, если ход невозможен\n",
    "* Игнорировать пересечения с другими фигурами на доске\n"
   ]
  },
  {
   "cell_type": "code",
   "execution_count": 55,
   "metadata": {},
   "outputs": [],
   "source": [
    "# Место для кода"
   ]
  },
  {
   "cell_type": "markdown",
   "metadata": {},
   "source": [
    "## Обработка исключений\n",
    "### Введение"
   ]
  },
  {
   "cell_type": "code",
   "execution_count": 59,
   "metadata": {},
   "outputs": [],
   "source": [
    "a = 5\n",
    "b = 0\n",
    "c = a/b"
   ]
  },
  {
   "cell_type": "code",
   "execution_count": 62,
   "metadata": {},
   "outputs": [],
   "source": [
    "def makeError(x):\n",
    "    return 5/x\n",
    "try:\n",
    "    print(makeError(1))\n",
    "    print(makeError(0))\n",
    "    print(makeError(2))\n",
    "except ZeroDivisionError as e:\n",
    "    print(e)\n",
    "    "
   ]
  },
  {
   "cell_type": "code",
   "execution_count": 63,
   "metadata": {},
   "outputs": [],
   "source": [
    "def makeError(x):\n",
    "    return 5/x\n",
    "try:\n",
    "    print(makeError(1))\n",
    "    print(makeError(0))\n",
    "    print(makeError(2))\n",
    "except ZeroDivisionError as e:\n",
    "    print(e)\n",
    "finally:\n",
    "    print('finally')"
   ]
  },
  {
   "cell_type": "code",
   "execution_count": 65,
   "metadata": {},
   "outputs": [],
   "source": [
    "def makeError(x):\n",
    "    return 5/x\n",
    "try:\n",
    "    print(makeError(1))\n",
    "    print(makeError(2))\n",
    "    print(makeError(3))\n",
    "except ZeroDivisionError as e:\n",
    "    print(e)\n",
    "else:\n",
    "    print('else')\n",
    "finally:\n",
    "    print('finally')\n"
   ]
  },
  {
   "cell_type": "markdown",
   "metadata": {},
   "source": [
    "### raise"
   ]
  },
  {
   "cell_type": "code",
   "execution_count": 58,
   "metadata": {},
   "outputs": [],
   "source": [
    "class MyError(Exception):\n",
    "    def __init__(self, value): \n",
    "        self.value = value \n",
    "    def __str__(self): \n",
    "        return repr(self.value) \n",
    "\n",
    "try: \n",
    "    raise MyError(2*2) \n",
    "except MyError as e:\n",
    "    print (f'Произошла ошибка MyError, значение: {e.value}') \n",
    "\n"
   ]
  },
  {
   "cell_type": "markdown",
   "metadata": {},
   "source": [
    "### Обработка исключений с наследованием\n",
    "\n",
    "**case 1**"
   ]
  },
  {
   "cell_type": "code",
   "execution_count": 8,
   "metadata": {},
   "outputs": [],
   "source": [
    "class MyException(BaseException):\n",
    "    pass\n",
    "class SubException(MyException):\n",
    "    pass\n",
    "class ExtraSubException(SubException):\n",
    "    pass\n",
    "def makeError(x):\n",
    "    if x > 3:\n",
    "        raise ExtraSubException()\n",
    "    elif x < 0:\n",
    "        raise SubException()\n",
    "        \n",
    "try:\n",
    "    makeError(3)\n",
    "    makeError(4)\n",
    "except ExtraSubException:\n",
    "    print('ExtraException')\n",
    "except SubException:\n",
    "    print('SubException')\n",
    "else:\n",
    "    print('Все хорошо')\n"
   ]
  },
  {
   "cell_type": "markdown",
   "metadata": {},
   "source": [
    "**case 2**"
   ]
  },
  {
   "cell_type": "code",
   "execution_count": 9,
   "metadata": {},
   "outputs": [],
   "source": [
    "class MyException(BaseException):\n",
    "    pass\n",
    "class SubException(MyException):\n",
    "    pass\n",
    "class ExtraSubException(SubException):\n",
    "    pass\n",
    "def makeError(x):\n",
    "    if x > 3:\n",
    "        raise ExtraSubException()\n",
    "    elif x < 0:\n",
    "        raise SubException()\n",
    "        \n",
    "try:\n",
    "    makeError(3)\n",
    "    makeError(4)\n",
    "except SubException:\n",
    "    print('SubException')\n",
    "except ExtraSubException:\n",
    "    print('ExtraException')\n",
    "else:\n",
    "    print('Все хорошо')\n"
   ]
  },
  {
   "cell_type": "markdown",
   "metadata": {},
   "source": [
    "### Excercise 10\n",
    "\n",
    "Реализуйте DebitCard. Необходимо реализовать следющие функции:\n",
    "* authorize(pin)\n",
    "* Withdrawal(money) ->  int\n",
    "* GetBalance() -> int\n",
    "* Необходимо создать несколько классов с исключениями и обработать их\n",
    "\n",
    "Пример работы\n",
    "```python\n",
    "class DebitCard:\n",
    "    \"\"\"Банковский аккаунт\"\"\"\n",
    "    # constructor(pin, balance)\n",
    "    # authorize(pin)\n",
    "    # Withdrawal(money) -> int\n",
    "    # GetBalance() -> int\n",
    "\n",
    "card1 = DebitCard(\"0000\", 100)\n",
    "\n",
    "Случай 1:\n",
    "card1.Withdrawal(50) -> ошибка: нужно ввести pin\n",
    "\n",
    "Случай 2:\n",
    "card1.autorize(\"1111\")\n",
    "card1.Withdrawal(50) -> ошибка: неверный pin\n",
    "\n",
    "Случай 3:\n",
    "card1.autorize(\"0000\")\n",
    "card1.Withdrawal(50)\n",
    "card1.Withdrawal(60) -> ошибка: недостаточно средств\n",
    "\n",
    "Случай 4:\n",
    "card1.autorize(\"0000\")\n",
    "card1.Withdrawal(90)\n",
    "card1.Withdrawal(5)\n",
    "card1.Withdrawal(1)\n",
    "```"
   ]
  },
  {
   "cell_type": "code",
   "execution_count": 18,
   "metadata": {},
   "outputs": [],
   "source": [
    "# Место для программы"
   ]
  }
 ],
 "metadata": {
  "kernelspec": {
   "display_name": "Python 3",
   "language": "python",
   "name": "python3"
  },
  "language_info": {
   "codemirror_mode": {
    "name": "ipython",
    "version": 3
   },
   "file_extension": ".py",
   "mimetype": "text/x-python",
   "name": "python",
   "nbconvert_exporter": "python",
   "pygments_lexer": "ipython3",
   "version": "3.7.3"
  }
 },
 "nbformat": 4,
 "nbformat_minor": 2
}
